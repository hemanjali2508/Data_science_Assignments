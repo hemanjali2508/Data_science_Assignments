{
 "cells": [
  {
   "cell_type": "code",
   "execution_count": 1,
   "id": "b8eb4ddb-8b00-4028-ae68-9d404add4a3c",
   "metadata": {},
   "outputs": [],
   "source": [
    "from scipy import stats\n",
    "import numpy as np\n",
    "import pandas as pd"
   ]
  },
  {
   "cell_type": "code",
   "execution_count": 3,
   "id": "b9f76dd9-108a-4dab-9eac-cd72177968a1",
   "metadata": {},
   "outputs": [
    {
     "data": {
      "text/plain": [
       "0     1.13\n",
       "1     1.55\n",
       "2     1.43\n",
       "3     0.92\n",
       "4     1.25\n",
       "5     1.36\n",
       "6     1.32\n",
       "7     0.85\n",
       "8     1.07\n",
       "9     1.48\n",
       "10    1.20\n",
       "11    1.33\n",
       "12    1.18\n",
       "13    1.22\n",
       "14    1.29\n",
       "dtype: float64"
      ]
     },
     "execution_count": 3,
     "metadata": {},
     "output_type": "execute_result"
    }
   ],
   "source": [
    "df=pd.Series([1.13, 1.55, 1.43, 0.92, 1.25, 1.36, 1.32, 0.85, 1.07, 1.48, 1.20, 1.33, 1.18, 1.22, 1.29])\n",
    "df"
   ]
  },
  {
   "cell_type": "markdown",
   "id": "1d60a869-f885-4aaa-8e4d-0e91df369851",
   "metadata": {},
   "source": [
    "# 99% Confidence Interval Using Sample Standard Deviation"
   ]
  },
  {
   "cell_type": "code",
   "execution_count": 4,
   "id": "3d3b042f-82d8-4634-bcb2-92128b2cf9a7",
   "metadata": {},
   "outputs": [
    {
     "data": {
      "text/plain": [
       "1.2386666666666666"
      ]
     },
     "execution_count": 4,
     "metadata": {},
     "output_type": "execute_result"
    }
   ],
   "source": [
    "#sample mean\n",
    "\n",
    "sample_mean=np.mean(df)\n",
    "sample_mean"
   ]
  },
  {
   "cell_type": "code",
   "execution_count": 5,
   "id": "390a5594-5ad4-4ec0-882a-8d332ee5552b",
   "metadata": {},
   "outputs": [
    {
     "data": {
      "text/plain": [
       "0.18661427836285438"
      ]
     },
     "execution_count": 5,
     "metadata": {},
     "output_type": "execute_result"
    }
   ],
   "source": [
    "#sample std\n",
    "\n",
    "sample_std=np.std(df)\n",
    "sample_std"
   ]
  },
  {
   "cell_type": "code",
   "execution_count": 7,
   "id": "e1662445-2eaa-4078-89fb-1aef8284c2a7",
   "metadata": {},
   "outputs": [
    {
     "data": {
      "text/plain": [
       "15"
      ]
     },
     "execution_count": 7,
     "metadata": {},
     "output_type": "execute_result"
    }
   ],
   "source": [
    "#sample size\n",
    "\n",
    "n = len(df)\n",
    "n"
   ]
  },
  {
   "cell_type": "code",
   "execution_count": 8,
   "id": "7004b959-a55b-46e5-9493-5d510f737aa6",
   "metadata": {},
   "outputs": [
    {
     "data": {
      "text/plain": [
       "14"
      ]
     },
     "execution_count": 8,
     "metadata": {},
     "output_type": "execute_result"
    }
   ],
   "source": [
    "#Degrees of freedom\n",
    "\n",
    "dof = n-1\n",
    "dof"
   ]
  },
  {
   "cell_type": "code",
   "execution_count": 10,
   "id": "b56fb850-a6e8-46fd-bb2f-25735ce7024f",
   "metadata": {},
   "outputs": [
    {
     "data": {
      "text/plain": [
       "2.97684273411266"
      ]
     },
     "execution_count": 10,
     "metadata": {},
     "output_type": "execute_result"
    }
   ],
   "source": [
    "#critical t_value for 99% Confidence Interval\n",
    "\n",
    "t_criitical = stats.t.ppf(0.995, dof)\n",
    "t_critical"
   ]
  },
  {
   "cell_type": "code",
   "execution_count": 11,
   "id": "9f5241bc-2202-4442-98a0-dfd556880b28",
   "metadata": {},
   "outputs": [
    {
     "data": {
      "text/plain": [
       "0.14343499802810397"
      ]
     },
     "execution_count": 11,
     "metadata": {},
     "output_type": "execute_result"
    }
   ],
   "source": [
    "#Margin of error using t-distribution\n",
    "\n",
    "margin_of_error_t = t_critical * (sample_std / np.sqrt(n))\n",
    "margin_of_error_t"
   ]
  },
  {
   "cell_type": "code",
   "execution_count": 13,
   "id": "46dfb049-cc47-4608-b099-d1605836682d",
   "metadata": {},
   "outputs": [],
   "source": [
    "#confdence interval using t_distribution\n",
    "\n",
    "ci_t_lower = sample_mean - margin_of_error_t\n",
    "ci_t_upper = sample_mean + margin_of_error_t"
   ]
  },
  {
   "cell_type": "code",
   "execution_count": 14,
   "id": "517eb0ab-bdc5-47e3-b7fe-fdc5f8ec8616",
   "metadata": {},
   "outputs": [
    {
     "name": "stdout",
     "output_type": "stream",
     "text": [
      "99% Confidence Interval Using Sample Standard Deviation: ( 1.0952, 1.3821)\n"
     ]
    }
   ],
   "source": [
    "print(f\"99% Confidence Interval Using Sample Standard Deviation: ({ci_t_lower: .4f},{ci_t_upper: .4f})\")"
   ]
  },
  {
   "cell_type": "markdown",
   "id": "21f21ea2-5b5b-449a-9600-e026148eef4f",
   "metadata": {},
   "source": [
    "# 99% Confidence Interval Using Known Population Standard Deviation"
   ]
  },
  {
   "cell_type": "code",
   "execution_count": 15,
   "id": "8d9800eb-8132-43a4-8bad-3bf9872c9b93",
   "metadata": {},
   "outputs": [],
   "source": [
    "#Given standard deviation for population\n",
    "\n",
    "population_std = 0.2"
   ]
  },
  {
   "cell_type": "code",
   "execution_count": 18,
   "id": "c22a4282-535d-488b-af0d-6917478d2ac1",
   "metadata": {},
   "outputs": [
    {
     "data": {
      "text/plain": [
       "2.5758293035489004"
      ]
     },
     "execution_count": 18,
     "metadata": {},
     "output_type": "execute_result"
    }
   ],
   "source": [
    "#critical z_value for 99% Confidence Interval \n",
    "\n",
    "z_critical = stats.norm.ppf(0.995)\n",
    "z_critical"
   ]
  },
  {
   "cell_type": "code",
   "execution_count": 19,
   "id": "b4fd7032-fe83-421f-9d6f-44fa6aa5ac94",
   "metadata": {},
   "outputs": [
    {
     "data": {
      "text/plain": [
       "0.13301525327090588"
      ]
     },
     "execution_count": 19,
     "metadata": {},
     "output_type": "execute_result"
    }
   ],
   "source": [
    "#Margin of error using Z_distribution\n",
    "\n",
    "margin_of_error_z = z_critical * (population_std / np.sqrt(n))\n",
    "margin_of_error_z"
   ]
  },
  {
   "cell_type": "code",
   "execution_count": 21,
   "id": "f0e7d860-27d7-4bb7-8868-a6a10bd682e8",
   "metadata": {},
   "outputs": [],
   "source": [
    "#confidence interval using z_distribution\n",
    "\n",
    "ci_z_lower = sample_mean - margin_of_error_z\n",
    "ci_z_upper = sample_mean + margin_of_error_z"
   ]
  },
  {
   "cell_type": "code",
   "execution_count": 23,
   "id": "6421c633-1284-4c2c-aa79-8141df9d5a54",
   "metadata": {},
   "outputs": [
    {
     "name": "stdout",
     "output_type": "stream",
     "text": [
      "99% Confidence Interval Using Known Population Standard Deviation: ( 1.1057, 1.3717)\n"
     ]
    }
   ],
   "source": [
    "print(f\"99% Confidence Interval Using Known Population Standard Deviation: ({ci_z_lower: .4f},{ci_z_upper: .4f})\")"
   ]
  }
 ],
 "metadata": {
  "kernelspec": {
   "display_name": "Python 3 (ipykernel)",
   "language": "python",
   "name": "python3"
  },
  "language_info": {
   "codemirror_mode": {
    "name": "ipython",
    "version": 3
   },
   "file_extension": ".py",
   "mimetype": "text/x-python",
   "name": "python",
   "nbconvert_exporter": "python",
   "pygments_lexer": "ipython3",
   "version": "3.11.7"
  }
 },
 "nbformat": 4,
 "nbformat_minor": 5
}
