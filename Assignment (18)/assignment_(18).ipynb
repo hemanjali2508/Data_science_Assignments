{
  "nbformat": 4,
  "nbformat_minor": 0,
  "metadata": {
    "colab": {
      "provenance": []
    },
    "kernelspec": {
      "name": "python3",
      "display_name": "Python 3"
    },
    "language_info": {
      "name": "python"
    }
  },
  "cells": [
    {
      "cell_type": "markdown",
      "source": [
        "# Neural Networks"
      ],
      "metadata": {
        "id": "UaDYlhww5tL8"
      }
    },
    {
      "cell_type": "code",
      "source": [
        "!pip install scikeras tensorflow pandas scikit-learn matplotlib"
      ],
      "metadata": {
        "colab": {
          "base_uri": "https://localhost:8080/"
        },
        "id": "pl6RTwPAtB2p",
        "outputId": "facef561-3377-4f56-fc20-bdb4e91a76b5"
      },
      "execution_count": 44,
      "outputs": [
        {
          "output_type": "stream",
          "name": "stdout",
          "text": [
            "Requirement already satisfied: scikeras in /usr/local/lib/python3.11/dist-packages (0.13.0)\n",
            "Requirement already satisfied: tensorflow in /usr/local/lib/python3.11/dist-packages (2.18.0)\n",
            "Requirement already satisfied: pandas in /usr/local/lib/python3.11/dist-packages (2.2.2)\n",
            "Requirement already satisfied: scikit-learn in /usr/local/lib/python3.11/dist-packages (1.6.1)\n",
            "Requirement already satisfied: matplotlib in /usr/local/lib/python3.11/dist-packages (3.10.0)\n",
            "Requirement already satisfied: keras>=3.2.0 in /usr/local/lib/python3.11/dist-packages (from scikeras) (3.8.0)\n",
            "Requirement already satisfied: absl-py>=1.0.0 in /usr/local/lib/python3.11/dist-packages (from tensorflow) (1.4.0)\n",
            "Requirement already satisfied: astunparse>=1.6.0 in /usr/local/lib/python3.11/dist-packages (from tensorflow) (1.6.3)\n",
            "Requirement already satisfied: flatbuffers>=24.3.25 in /usr/local/lib/python3.11/dist-packages (from tensorflow) (25.2.10)\n",
            "Requirement already satisfied: gast!=0.5.0,!=0.5.1,!=0.5.2,>=0.2.1 in /usr/local/lib/python3.11/dist-packages (from tensorflow) (0.6.0)\n",
            "Requirement already satisfied: google-pasta>=0.1.1 in /usr/local/lib/python3.11/dist-packages (from tensorflow) (0.2.0)\n",
            "Requirement already satisfied: libclang>=13.0.0 in /usr/local/lib/python3.11/dist-packages (from tensorflow) (18.1.1)\n",
            "Requirement already satisfied: opt-einsum>=2.3.2 in /usr/local/lib/python3.11/dist-packages (from tensorflow) (3.4.0)\n",
            "Requirement already satisfied: packaging in /usr/local/lib/python3.11/dist-packages (from tensorflow) (24.2)\n",
            "Requirement already satisfied: protobuf!=4.21.0,!=4.21.1,!=4.21.2,!=4.21.3,!=4.21.4,!=4.21.5,<6.0.0dev,>=3.20.3 in /usr/local/lib/python3.11/dist-packages (from tensorflow) (5.29.4)\n",
            "Requirement already satisfied: requests<3,>=2.21.0 in /usr/local/lib/python3.11/dist-packages (from tensorflow) (2.32.3)\n",
            "Requirement already satisfied: setuptools in /usr/local/lib/python3.11/dist-packages (from tensorflow) (75.2.0)\n",
            "Requirement already satisfied: six>=1.12.0 in /usr/local/lib/python3.11/dist-packages (from tensorflow) (1.17.0)\n",
            "Requirement already satisfied: termcolor>=1.1.0 in /usr/local/lib/python3.11/dist-packages (from tensorflow) (3.0.1)\n",
            "Requirement already satisfied: typing-extensions>=3.6.6 in /usr/local/lib/python3.11/dist-packages (from tensorflow) (4.13.2)\n",
            "Requirement already satisfied: wrapt>=1.11.0 in /usr/local/lib/python3.11/dist-packages (from tensorflow) (1.17.2)\n",
            "Requirement already satisfied: grpcio<2.0,>=1.24.3 in /usr/local/lib/python3.11/dist-packages (from tensorflow) (1.71.0)\n",
            "Requirement already satisfied: tensorboard<2.19,>=2.18 in /usr/local/lib/python3.11/dist-packages (from tensorflow) (2.18.0)\n",
            "Requirement already satisfied: numpy<2.1.0,>=1.26.0 in /usr/local/lib/python3.11/dist-packages (from tensorflow) (2.0.2)\n",
            "Requirement already satisfied: h5py>=3.11.0 in /usr/local/lib/python3.11/dist-packages (from tensorflow) (3.13.0)\n",
            "Requirement already satisfied: ml-dtypes<0.5.0,>=0.4.0 in /usr/local/lib/python3.11/dist-packages (from tensorflow) (0.4.1)\n",
            "Requirement already satisfied: tensorflow-io-gcs-filesystem>=0.23.1 in /usr/local/lib/python3.11/dist-packages (from tensorflow) (0.37.1)\n",
            "Requirement already satisfied: python-dateutil>=2.8.2 in /usr/local/lib/python3.11/dist-packages (from pandas) (2.8.2)\n",
            "Requirement already satisfied: pytz>=2020.1 in /usr/local/lib/python3.11/dist-packages (from pandas) (2025.2)\n",
            "Requirement already satisfied: tzdata>=2022.7 in /usr/local/lib/python3.11/dist-packages (from pandas) (2025.2)\n",
            "Requirement already satisfied: scipy>=1.6.0 in /usr/local/lib/python3.11/dist-packages (from scikit-learn) (1.14.1)\n",
            "Requirement already satisfied: joblib>=1.2.0 in /usr/local/lib/python3.11/dist-packages (from scikit-learn) (1.4.2)\n",
            "Requirement already satisfied: threadpoolctl>=3.1.0 in /usr/local/lib/python3.11/dist-packages (from scikit-learn) (3.6.0)\n",
            "Requirement already satisfied: contourpy>=1.0.1 in /usr/local/lib/python3.11/dist-packages (from matplotlib) (1.3.2)\n",
            "Requirement already satisfied: cycler>=0.10 in /usr/local/lib/python3.11/dist-packages (from matplotlib) (0.12.1)\n",
            "Requirement already satisfied: fonttools>=4.22.0 in /usr/local/lib/python3.11/dist-packages (from matplotlib) (4.57.0)\n",
            "Requirement already satisfied: kiwisolver>=1.3.1 in /usr/local/lib/python3.11/dist-packages (from matplotlib) (1.4.8)\n",
            "Requirement already satisfied: pillow>=8 in /usr/local/lib/python3.11/dist-packages (from matplotlib) (11.1.0)\n",
            "Requirement already satisfied: pyparsing>=2.3.1 in /usr/local/lib/python3.11/dist-packages (from matplotlib) (3.2.3)\n",
            "Requirement already satisfied: wheel<1.0,>=0.23.0 in /usr/local/lib/python3.11/dist-packages (from astunparse>=1.6.0->tensorflow) (0.45.1)\n",
            "Requirement already satisfied: rich in /usr/local/lib/python3.11/dist-packages (from keras>=3.2.0->scikeras) (13.9.4)\n",
            "Requirement already satisfied: namex in /usr/local/lib/python3.11/dist-packages (from keras>=3.2.0->scikeras) (0.0.9)\n",
            "Requirement already satisfied: optree in /usr/local/lib/python3.11/dist-packages (from keras>=3.2.0->scikeras) (0.15.0)\n",
            "Requirement already satisfied: charset-normalizer<4,>=2 in /usr/local/lib/python3.11/dist-packages (from requests<3,>=2.21.0->tensorflow) (3.4.1)\n",
            "Requirement already satisfied: idna<4,>=2.5 in /usr/local/lib/python3.11/dist-packages (from requests<3,>=2.21.0->tensorflow) (3.10)\n",
            "Requirement already satisfied: urllib3<3,>=1.21.1 in /usr/local/lib/python3.11/dist-packages (from requests<3,>=2.21.0->tensorflow) (2.3.0)\n",
            "Requirement already satisfied: certifi>=2017.4.17 in /usr/local/lib/python3.11/dist-packages (from requests<3,>=2.21.0->tensorflow) (2025.1.31)\n",
            "Requirement already satisfied: markdown>=2.6.8 in /usr/local/lib/python3.11/dist-packages (from tensorboard<2.19,>=2.18->tensorflow) (3.8)\n",
            "Requirement already satisfied: tensorboard-data-server<0.8.0,>=0.7.0 in /usr/local/lib/python3.11/dist-packages (from tensorboard<2.19,>=2.18->tensorflow) (0.7.2)\n",
            "Requirement already satisfied: werkzeug>=1.0.1 in /usr/local/lib/python3.11/dist-packages (from tensorboard<2.19,>=2.18->tensorflow) (3.1.3)\n",
            "Requirement already satisfied: MarkupSafe>=2.1.1 in /usr/local/lib/python3.11/dist-packages (from werkzeug>=1.0.1->tensorboard<2.19,>=2.18->tensorflow) (3.0.2)\n",
            "Requirement already satisfied: markdown-it-py>=2.2.0 in /usr/local/lib/python3.11/dist-packages (from rich->keras>=3.2.0->scikeras) (3.0.0)\n",
            "Requirement already satisfied: pygments<3.0.0,>=2.13.0 in /usr/local/lib/python3.11/dist-packages (from rich->keras>=3.2.0->scikeras) (2.18.0)\n",
            "Requirement already satisfied: mdurl~=0.1 in /usr/local/lib/python3.11/dist-packages (from markdown-it-py>=2.2.0->rich->keras>=3.2.0->scikeras) (0.1.2)\n"
          ]
        }
      ]
    },
    {
      "cell_type": "code",
      "source": [
        "# STEP 1: Import required libraries\n",
        "import pandas as pd\n",
        "import numpy as np\n",
        "from sklearn.model_selection import train_test_split\n",
        "from sklearn.preprocessing import StandardScaler, LabelEncoder\n",
        "from sklearn.metrics import classification_report, confusion_matrix, accuracy_score\n",
        "import matplotlib.pyplot as plt\n",
        "from tensorflow.keras.models import Sequential\n",
        "from tensorflow.keras.layers import Dense\n",
        "from tensorflow.keras.utils import to_categorical"
      ],
      "metadata": {
        "id": "uszRmX_CtHWU"
      },
      "execution_count": 45,
      "outputs": []
    },
    {
      "cell_type": "code",
      "source": [
        "# STEP 2: Load the dataset\n",
        "df = pd.read_csv(\"/content/Alphabets_data.csv\")\n",
        "print(\"Dataset shape:\", df.shape)"
      ],
      "metadata": {
        "colab": {
          "base_uri": "https://localhost:8080/"
        },
        "id": "Sei3ZTkPtLDU",
        "outputId": "71c56088-ffc5-43f7-e213-c31e573b9de7"
      },
      "execution_count": 46,
      "outputs": [
        {
          "output_type": "stream",
          "name": "stdout",
          "text": [
            "Dataset shape: (20000, 17)\n"
          ]
        }
      ]
    },
    {
      "cell_type": "code",
      "source": [
        "# STEP 3: Check for missing values\n",
        "print(\"Missing values:\\n\", df.isnull().sum())"
      ],
      "metadata": {
        "colab": {
          "base_uri": "https://localhost:8080/"
        },
        "id": "zep_lXONtYRt",
        "outputId": "0ef41aef-3878-4f4f-90b8-bbb6eed5a0d6"
      },
      "execution_count": 47,
      "outputs": [
        {
          "output_type": "stream",
          "name": "stdout",
          "text": [
            "Missing values:\n",
            " letter    0\n",
            "xbox      0\n",
            "ybox      0\n",
            "width     0\n",
            "height    0\n",
            "onpix     0\n",
            "xbar      0\n",
            "ybar      0\n",
            "x2bar     0\n",
            "y2bar     0\n",
            "xybar     0\n",
            "x2ybar    0\n",
            "xy2bar    0\n",
            "xedge     0\n",
            "xedgey    0\n",
            "yedge     0\n",
            "yedgex    0\n",
            "dtype: int64\n"
          ]
        }
      ]
    },
    {
      "cell_type": "code",
      "source": [
        "# STEP 4: Split features and target\n",
        "X = df.iloc[:, 1:]\n",
        "y = df.iloc[:, 0]"
      ],
      "metadata": {
        "id": "VaoPGCCitb1w"
      },
      "execution_count": 48,
      "outputs": []
    },
    {
      "cell_type": "code",
      "source": [
        "# STEP 5: Encode the target labels\n",
        "le = LabelEncoder()\n",
        "y_encoded = le.fit_transform(y)\n",
        "y_categorical = to_categorical(y_encoded)"
      ],
      "metadata": {
        "id": "_arBNM-rtsy-"
      },
      "execution_count": 49,
      "outputs": []
    },
    {
      "cell_type": "code",
      "source": [
        "# STEP 6: Normalize features\n",
        "scaler = StandardScaler()\n",
        "X_scaled = scaler.fit_transform(X)"
      ],
      "metadata": {
        "id": "5Q10chFHtuct"
      },
      "execution_count": 50,
      "outputs": []
    },
    {
      "cell_type": "code",
      "source": [
        "# STEP 7: Train-test split\n",
        "X_train, X_test, y_train, y_test = train_test_split(X_scaled, y_categorical, test_size=0.2, random_state=42)"
      ],
      "metadata": {
        "id": "90M4iVnZtwpW"
      },
      "execution_count": 51,
      "outputs": []
    },
    {
      "cell_type": "code",
      "source": [
        "# STEP 8: Function to create ANN model\n",
        "def build_ann(input_dim, hidden_layers=1, neurons=64, activation='relu'):\n",
        "    model = Sequential()\n",
        "    model.add(Dense(neurons, input_dim=input_dim, activation=activation))\n",
        "    for _ in range(hidden_layers - 1):\n",
        "        model.add(Dense(neurons, activation=activation))\n",
        "    model.add(Dense(y_categorical.shape[1], activation='softmax'))\n",
        "    model.compile(optimizer='adam', loss='categorical_crossentropy', metrics=['accuracy'])\n",
        "    return model"
      ],
      "metadata": {
        "id": "4ACRwMPctzKx"
      },
      "execution_count": 52,
      "outputs": []
    },
    {
      "cell_type": "code",
      "source": [
        "# STEP 9: Create and train model\n",
        "model = build_ann(input_dim=X_train.shape[1], hidden_layers=2, neurons=64, activation='relu')\n",
        "history = model.fit(X_train, y_train, validation_split=0.2, epochs=50, batch_size=32, verbose=1)"
      ],
      "metadata": {
        "colab": {
          "base_uri": "https://localhost:8080/"
        },
        "id": "aZHAuGFzt2Ol",
        "outputId": "13d65d74-73e2-4d9a-cf70-dd9cb8ab0da9"
      },
      "execution_count": 53,
      "outputs": [
        {
          "output_type": "stream",
          "name": "stdout",
          "text": [
            "Epoch 1/50\n",
            "\u001b[1m400/400\u001b[0m \u001b[32m━━━━━━━━━━━━━━━━━━━━\u001b[0m\u001b[37m\u001b[0m \u001b[1m4s\u001b[0m 6ms/step - accuracy: 0.3650 - loss: 2.3549 - val_accuracy: 0.7131 - val_loss: 1.0169\n",
            "Epoch 2/50\n",
            "\u001b[1m400/400\u001b[0m \u001b[32m━━━━━━━━━━━━━━━━━━━━\u001b[0m\u001b[37m\u001b[0m \u001b[1m1s\u001b[0m 3ms/step - accuracy: 0.7436 - loss: 0.8781 - val_accuracy: 0.7803 - val_loss: 0.7606\n",
            "Epoch 3/50\n",
            "\u001b[1m400/400\u001b[0m \u001b[32m━━━━━━━━━━━━━━━━━━━━\u001b[0m\u001b[37m\u001b[0m \u001b[1m3s\u001b[0m 3ms/step - accuracy: 0.8033 - loss: 0.6846 - val_accuracy: 0.8197 - val_loss: 0.6273\n",
            "Epoch 4/50\n",
            "\u001b[1m400/400\u001b[0m \u001b[32m━━━━━━━━━━━━━━━━━━━━\u001b[0m\u001b[37m\u001b[0m \u001b[1m3s\u001b[0m 4ms/step - accuracy: 0.8393 - loss: 0.5617 - val_accuracy: 0.8419 - val_loss: 0.5437\n",
            "Epoch 5/50\n",
            "\u001b[1m400/400\u001b[0m \u001b[32m━━━━━━━━━━━━━━━━━━━━\u001b[0m\u001b[37m\u001b[0m \u001b[1m2s\u001b[0m 4ms/step - accuracy: 0.8531 - loss: 0.4975 - val_accuracy: 0.8575 - val_loss: 0.4826\n",
            "Epoch 6/50\n",
            "\u001b[1m400/400\u001b[0m \u001b[32m━━━━━━━━━━━━━━━━━━━━\u001b[0m\u001b[37m\u001b[0m \u001b[1m3s\u001b[0m 5ms/step - accuracy: 0.8725 - loss: 0.4454 - val_accuracy: 0.8741 - val_loss: 0.4277\n",
            "Epoch 7/50\n",
            "\u001b[1m400/400\u001b[0m \u001b[32m━━━━━━━━━━━━━━━━━━━━\u001b[0m\u001b[37m\u001b[0m \u001b[1m2s\u001b[0m 4ms/step - accuracy: 0.8896 - loss: 0.3790 - val_accuracy: 0.8878 - val_loss: 0.3814\n",
            "Epoch 8/50\n",
            "\u001b[1m400/400\u001b[0m \u001b[32m━━━━━━━━━━━━━━━━━━━━\u001b[0m\u001b[37m\u001b[0m \u001b[1m3s\u001b[0m 4ms/step - accuracy: 0.8995 - loss: 0.3389 - val_accuracy: 0.8866 - val_loss: 0.3719\n",
            "Epoch 9/50\n",
            "\u001b[1m400/400\u001b[0m \u001b[32m━━━━━━━━━━━━━━━━━━━━\u001b[0m\u001b[37m\u001b[0m \u001b[1m2s\u001b[0m 4ms/step - accuracy: 0.9090 - loss: 0.3179 - val_accuracy: 0.8997 - val_loss: 0.3413\n",
            "Epoch 10/50\n",
            "\u001b[1m400/400\u001b[0m \u001b[32m━━━━━━━━━━━━━━━━━━━━\u001b[0m\u001b[37m\u001b[0m \u001b[1m3s\u001b[0m 4ms/step - accuracy: 0.9139 - loss: 0.2910 - val_accuracy: 0.9047 - val_loss: 0.3212\n",
            "Epoch 11/50\n",
            "\u001b[1m400/400\u001b[0m \u001b[32m━━━━━━━━━━━━━━━━━━━━\u001b[0m\u001b[37m\u001b[0m \u001b[1m3s\u001b[0m 4ms/step - accuracy: 0.9212 - loss: 0.2674 - val_accuracy: 0.9056 - val_loss: 0.2993\n",
            "Epoch 12/50\n",
            "\u001b[1m400/400\u001b[0m \u001b[32m━━━━━━━━━━━━━━━━━━━━\u001b[0m\u001b[37m\u001b[0m \u001b[1m2s\u001b[0m 5ms/step - accuracy: 0.9265 - loss: 0.2485 - val_accuracy: 0.9084 - val_loss: 0.2880\n",
            "Epoch 13/50\n",
            "\u001b[1m400/400\u001b[0m \u001b[32m━━━━━━━━━━━━━━━━━━━━\u001b[0m\u001b[37m\u001b[0m \u001b[1m2s\u001b[0m 3ms/step - accuracy: 0.9312 - loss: 0.2297 - val_accuracy: 0.9169 - val_loss: 0.2726\n",
            "Epoch 14/50\n",
            "\u001b[1m400/400\u001b[0m \u001b[32m━━━━━━━━━━━━━━━━━━━━\u001b[0m\u001b[37m\u001b[0m \u001b[1m1s\u001b[0m 3ms/step - accuracy: 0.9394 - loss: 0.2172 - val_accuracy: 0.9144 - val_loss: 0.2689\n",
            "Epoch 15/50\n",
            "\u001b[1m400/400\u001b[0m \u001b[32m━━━━━━━━━━━━━━━━━━━━\u001b[0m\u001b[37m\u001b[0m \u001b[1m1s\u001b[0m 3ms/step - accuracy: 0.9380 - loss: 0.2022 - val_accuracy: 0.9234 - val_loss: 0.2571\n",
            "Epoch 16/50\n",
            "\u001b[1m400/400\u001b[0m \u001b[32m━━━━━━━━━━━━━━━━━━━━\u001b[0m\u001b[37m\u001b[0m \u001b[1m1s\u001b[0m 3ms/step - accuracy: 0.9437 - loss: 0.1922 - val_accuracy: 0.9175 - val_loss: 0.2499\n",
            "Epoch 17/50\n",
            "\u001b[1m400/400\u001b[0m \u001b[32m━━━━━━━━━━━━━━━━━━━━\u001b[0m\u001b[37m\u001b[0m \u001b[1m1s\u001b[0m 3ms/step - accuracy: 0.9493 - loss: 0.1723 - val_accuracy: 0.9191 - val_loss: 0.2375\n",
            "Epoch 18/50\n",
            "\u001b[1m400/400\u001b[0m \u001b[32m━━━━━━━━━━━━━━━━━━━━\u001b[0m\u001b[37m\u001b[0m \u001b[1m3s\u001b[0m 4ms/step - accuracy: 0.9450 - loss: 0.1797 - val_accuracy: 0.9300 - val_loss: 0.2227\n",
            "Epoch 19/50\n",
            "\u001b[1m400/400\u001b[0m \u001b[32m━━━━━━━━━━━━━━━━━━━━\u001b[0m\u001b[37m\u001b[0m \u001b[1m3s\u001b[0m 5ms/step - accuracy: 0.9509 - loss: 0.1621 - val_accuracy: 0.9297 - val_loss: 0.2171\n",
            "Epoch 20/50\n",
            "\u001b[1m400/400\u001b[0m \u001b[32m━━━━━━━━━━━━━━━━━━━━\u001b[0m\u001b[37m\u001b[0m \u001b[1m2s\u001b[0m 3ms/step - accuracy: 0.9514 - loss: 0.1623 - val_accuracy: 0.9297 - val_loss: 0.2113\n",
            "Epoch 21/50\n",
            "\u001b[1m400/400\u001b[0m \u001b[32m━━━━━━━━━━━━━━━━━━━━\u001b[0m\u001b[37m\u001b[0m \u001b[1m2s\u001b[0m 3ms/step - accuracy: 0.9570 - loss: 0.1452 - val_accuracy: 0.9275 - val_loss: 0.2194\n",
            "Epoch 22/50\n",
            "\u001b[1m400/400\u001b[0m \u001b[32m━━━━━━━━━━━━━━━━━━━━\u001b[0m\u001b[37m\u001b[0m \u001b[1m1s\u001b[0m 3ms/step - accuracy: 0.9569 - loss: 0.1390 - val_accuracy: 0.9306 - val_loss: 0.2051\n",
            "Epoch 23/50\n",
            "\u001b[1m400/400\u001b[0m \u001b[32m━━━━━━━━━━━━━━━━━━━━\u001b[0m\u001b[37m\u001b[0m \u001b[1m1s\u001b[0m 3ms/step - accuracy: 0.9623 - loss: 0.1276 - val_accuracy: 0.9312 - val_loss: 0.2084\n",
            "Epoch 24/50\n",
            "\u001b[1m400/400\u001b[0m \u001b[32m━━━━━━━━━━━━━━━━━━━━\u001b[0m\u001b[37m\u001b[0m \u001b[1m3s\u001b[0m 3ms/step - accuracy: 0.9594 - loss: 0.1249 - val_accuracy: 0.9381 - val_loss: 0.1944\n",
            "Epoch 25/50\n",
            "\u001b[1m400/400\u001b[0m \u001b[32m━━━━━━━━━━━━━━━━━━━━\u001b[0m\u001b[37m\u001b[0m \u001b[1m3s\u001b[0m 5ms/step - accuracy: 0.9621 - loss: 0.1218 - val_accuracy: 0.9375 - val_loss: 0.1910\n",
            "Epoch 26/50\n",
            "\u001b[1m400/400\u001b[0m \u001b[32m━━━━━━━━━━━━━━━━━━━━\u001b[0m\u001b[37m\u001b[0m \u001b[1m2s\u001b[0m 3ms/step - accuracy: 0.9635 - loss: 0.1169 - val_accuracy: 0.9350 - val_loss: 0.1957\n",
            "Epoch 27/50\n",
            "\u001b[1m400/400\u001b[0m \u001b[32m━━━━━━━━━━━━━━━━━━━━\u001b[0m\u001b[37m\u001b[0m \u001b[1m1s\u001b[0m 3ms/step - accuracy: 0.9692 - loss: 0.1088 - val_accuracy: 0.9403 - val_loss: 0.1835\n",
            "Epoch 28/50\n",
            "\u001b[1m400/400\u001b[0m \u001b[32m━━━━━━━━━━━━━━━━━━━━\u001b[0m\u001b[37m\u001b[0m \u001b[1m3s\u001b[0m 3ms/step - accuracy: 0.9663 - loss: 0.1137 - val_accuracy: 0.9347 - val_loss: 0.1978\n",
            "Epoch 29/50\n",
            "\u001b[1m400/400\u001b[0m \u001b[32m━━━━━━━━━━━━━━━━━━━━\u001b[0m\u001b[37m\u001b[0m \u001b[1m3s\u001b[0m 3ms/step - accuracy: 0.9691 - loss: 0.1031 - val_accuracy: 0.9369 - val_loss: 0.1948\n",
            "Epoch 30/50\n",
            "\u001b[1m400/400\u001b[0m \u001b[32m━━━━━━━━━━━━━━━━━━━━\u001b[0m\u001b[37m\u001b[0m \u001b[1m1s\u001b[0m 3ms/step - accuracy: 0.9686 - loss: 0.1043 - val_accuracy: 0.9400 - val_loss: 0.1787\n",
            "Epoch 31/50\n",
            "\u001b[1m400/400\u001b[0m \u001b[32m━━━━━━━━━━━━━━━━━━━━\u001b[0m\u001b[37m\u001b[0m \u001b[1m1s\u001b[0m 4ms/step - accuracy: 0.9724 - loss: 0.0907 - val_accuracy: 0.9381 - val_loss: 0.1825\n",
            "Epoch 32/50\n",
            "\u001b[1m400/400\u001b[0m \u001b[32m━━━━━━━━━━━━━━━━━━━━\u001b[0m\u001b[37m\u001b[0m \u001b[1m3s\u001b[0m 4ms/step - accuracy: 0.9744 - loss: 0.0885 - val_accuracy: 0.9416 - val_loss: 0.1853\n",
            "Epoch 33/50\n",
            "\u001b[1m400/400\u001b[0m \u001b[32m━━━━━━━━━━━━━━━━━━━━\u001b[0m\u001b[37m\u001b[0m \u001b[1m2s\u001b[0m 3ms/step - accuracy: 0.9726 - loss: 0.0874 - val_accuracy: 0.9413 - val_loss: 0.1780\n",
            "Epoch 34/50\n",
            "\u001b[1m400/400\u001b[0m \u001b[32m━━━━━━━━━━━━━━━━━━━━\u001b[0m\u001b[37m\u001b[0m \u001b[1m1s\u001b[0m 3ms/step - accuracy: 0.9734 - loss: 0.0885 - val_accuracy: 0.9434 - val_loss: 0.1757\n",
            "Epoch 35/50\n",
            "\u001b[1m400/400\u001b[0m \u001b[32m━━━━━━━━━━━━━━━━━━━━\u001b[0m\u001b[37m\u001b[0m \u001b[1m1s\u001b[0m 3ms/step - accuracy: 0.9771 - loss: 0.0782 - val_accuracy: 0.9409 - val_loss: 0.1809\n",
            "Epoch 36/50\n",
            "\u001b[1m400/400\u001b[0m \u001b[32m━━━━━━━━━━━━━━━━━━━━\u001b[0m\u001b[37m\u001b[0m \u001b[1m1s\u001b[0m 3ms/step - accuracy: 0.9797 - loss: 0.0768 - val_accuracy: 0.9409 - val_loss: 0.1725\n",
            "Epoch 37/50\n",
            "\u001b[1m400/400\u001b[0m \u001b[32m━━━━━━━━━━━━━━━━━━━━\u001b[0m\u001b[37m\u001b[0m \u001b[1m1s\u001b[0m 3ms/step - accuracy: 0.9772 - loss: 0.0745 - val_accuracy: 0.9413 - val_loss: 0.1710\n",
            "Epoch 38/50\n",
            "\u001b[1m400/400\u001b[0m \u001b[32m━━━━━━━━━━━━━━━━━━━━\u001b[0m\u001b[37m\u001b[0m \u001b[1m1s\u001b[0m 3ms/step - accuracy: 0.9812 - loss: 0.0692 - val_accuracy: 0.9447 - val_loss: 0.1663\n",
            "Epoch 39/50\n",
            "\u001b[1m400/400\u001b[0m \u001b[32m━━━━━━━━━━━━━━━━━━━━\u001b[0m\u001b[37m\u001b[0m \u001b[1m2s\u001b[0m 5ms/step - accuracy: 0.9786 - loss: 0.0680 - val_accuracy: 0.9441 - val_loss: 0.1745\n",
            "Epoch 40/50\n",
            "\u001b[1m400/400\u001b[0m \u001b[32m━━━━━━━━━━━━━━━━━━━━\u001b[0m\u001b[37m\u001b[0m \u001b[1m2s\u001b[0m 3ms/step - accuracy: 0.9816 - loss: 0.0645 - val_accuracy: 0.9356 - val_loss: 0.1882\n",
            "Epoch 41/50\n",
            "\u001b[1m400/400\u001b[0m \u001b[32m━━━━━━━━━━━━━━━━━━━━\u001b[0m\u001b[37m\u001b[0m \u001b[1m1s\u001b[0m 3ms/step - accuracy: 0.9807 - loss: 0.0641 - val_accuracy: 0.9500 - val_loss: 0.1695\n",
            "Epoch 42/50\n",
            "\u001b[1m400/400\u001b[0m \u001b[32m━━━━━━━━━━━━━━━━━━━━\u001b[0m\u001b[37m\u001b[0m \u001b[1m2s\u001b[0m 3ms/step - accuracy: 0.9789 - loss: 0.0710 - val_accuracy: 0.9447 - val_loss: 0.1718\n",
            "Epoch 43/50\n",
            "\u001b[1m400/400\u001b[0m \u001b[32m━━━━━━━━━━━━━━━━━━━━\u001b[0m\u001b[37m\u001b[0m \u001b[1m2s\u001b[0m 3ms/step - accuracy: 0.9827 - loss: 0.0622 - val_accuracy: 0.9403 - val_loss: 0.1756\n",
            "Epoch 44/50\n",
            "\u001b[1m400/400\u001b[0m \u001b[32m━━━━━━━━━━━━━━━━━━━━\u001b[0m\u001b[37m\u001b[0m \u001b[1m1s\u001b[0m 3ms/step - accuracy: 0.9821 - loss: 0.0588 - val_accuracy: 0.9453 - val_loss: 0.1666\n",
            "Epoch 45/50\n",
            "\u001b[1m400/400\u001b[0m \u001b[32m━━━━━━━━━━━━━━━━━━━━\u001b[0m\u001b[37m\u001b[0m \u001b[1m1s\u001b[0m 3ms/step - accuracy: 0.9853 - loss: 0.0561 - val_accuracy: 0.9484 - val_loss: 0.1675\n",
            "Epoch 46/50\n",
            "\u001b[1m400/400\u001b[0m \u001b[32m━━━━━━━━━━━━━━━━━━━━\u001b[0m\u001b[37m\u001b[0m \u001b[1m2s\u001b[0m 4ms/step - accuracy: 0.9827 - loss: 0.0576 - val_accuracy: 0.9419 - val_loss: 0.1708\n",
            "Epoch 47/50\n",
            "\u001b[1m400/400\u001b[0m \u001b[32m━━━━━━━━━━━━━━━━━━━━\u001b[0m\u001b[37m\u001b[0m \u001b[1m2s\u001b[0m 3ms/step - accuracy: 0.9823 - loss: 0.0568 - val_accuracy: 0.9428 - val_loss: 0.1837\n",
            "Epoch 48/50\n",
            "\u001b[1m400/400\u001b[0m \u001b[32m━━━━━━━━━━━━━━━━━━━━\u001b[0m\u001b[37m\u001b[0m \u001b[1m1s\u001b[0m 3ms/step - accuracy: 0.9854 - loss: 0.0495 - val_accuracy: 0.9469 - val_loss: 0.1658\n",
            "Epoch 49/50\n",
            "\u001b[1m400/400\u001b[0m \u001b[32m━━━━━━━━━━━━━━━━━━━━\u001b[0m\u001b[37m\u001b[0m \u001b[1m1s\u001b[0m 3ms/step - accuracy: 0.9858 - loss: 0.0472 - val_accuracy: 0.9481 - val_loss: 0.1603\n",
            "Epoch 50/50\n",
            "\u001b[1m400/400\u001b[0m \u001b[32m━━━━━━━━━━━━━━━━━━━━\u001b[0m\u001b[37m\u001b[0m \u001b[1m1s\u001b[0m 3ms/step - accuracy: 0.9883 - loss: 0.0452 - val_accuracy: 0.9509 - val_loss: 0.1661\n"
          ]
        }
      ]
    },
    {
      "cell_type": "code",
      "source": [
        "# STEP 10: Evaluate the model\n",
        "loss, accuracy = model.evaluate(X_test, y_test)\n",
        "print(\"\\nTest Accuracy:\", accuracy)"
      ],
      "metadata": {
        "colab": {
          "base_uri": "https://localhost:8080/"
        },
        "id": "Jq8Tt9e9t39f",
        "outputId": "41e0eb7e-44aa-4901-a5e4-775bbf6fe434"
      },
      "execution_count": 54,
      "outputs": [
        {
          "output_type": "stream",
          "name": "stdout",
          "text": [
            "\u001b[1m125/125\u001b[0m \u001b[32m━━━━━━━━━━━━━━━━━━━━\u001b[0m\u001b[37m\u001b[0m \u001b[1m1s\u001b[0m 4ms/step - accuracy: 0.9472 - loss: 0.1781\n",
            "\n",
            "Test Accuracy: 0.9495000243186951\n"
          ]
        }
      ]
    },
    {
      "cell_type": "code",
      "source": [
        "# STEP 11: Predictions and evaluation\n",
        "y_pred = model.predict(X_test)\n",
        "y_pred_classes = np.argmax(y_pred, axis=1)\n",
        "y_true_classes = np.argmax(y_test, axis=1)\n",
        "\n",
        "print(\"\\nClassification Report:\\n\", classification_report(y_true_classes, y_pred_classes, target_names=le.classes_))\n",
        "print(\"\\nConfusion Matrix:\\n\", confusion_matrix(y_true_classes, y_pred_classes))"
      ],
      "metadata": {
        "colab": {
          "base_uri": "https://localhost:8080/"
        },
        "id": "ejncxL1duQQO",
        "outputId": "30f88d97-721b-4d1e-ab8a-b77878a18635"
      },
      "execution_count": 55,
      "outputs": [
        {
          "output_type": "stream",
          "name": "stdout",
          "text": [
            "\u001b[1m125/125\u001b[0m \u001b[32m━━━━━━━━━━━━━━━━━━━━\u001b[0m\u001b[37m\u001b[0m \u001b[1m0s\u001b[0m 2ms/step\n",
            "\n",
            "Classification Report:\n",
            "               precision    recall  f1-score   support\n",
            "\n",
            "           A       0.95      0.97      0.96       149\n",
            "           B       0.90      0.95      0.93       153\n",
            "           C       0.96      0.94      0.95       137\n",
            "           D       0.91      0.97      0.94       156\n",
            "           E       0.92      0.96      0.94       141\n",
            "           F       0.96      0.94      0.95       140\n",
            "           G       0.94      0.93      0.94       160\n",
            "           H       0.94      0.86      0.90       144\n",
            "           I       0.97      0.92      0.95       146\n",
            "           J       0.96      0.95      0.95       149\n",
            "           K       0.88      0.87      0.88       130\n",
            "           L       0.97      0.97      0.97       155\n",
            "           M       0.98      0.98      0.98       168\n",
            "           N       0.97      0.91      0.94       151\n",
            "           O       0.95      0.94      0.95       145\n",
            "           P       0.97      0.96      0.97       173\n",
            "           Q       0.96      0.96      0.96       166\n",
            "           R       0.85      0.95      0.90       160\n",
            "           S       0.97      0.99      0.98       171\n",
            "           T       0.99      0.96      0.97       163\n",
            "           U       0.95      0.96      0.96       183\n",
            "           V       0.99      0.94      0.96       158\n",
            "           W       0.98      0.97      0.97       148\n",
            "           X       0.94      0.97      0.96       154\n",
            "           Y       0.96      0.98      0.97       168\n",
            "           Z       0.98      0.93      0.95       132\n",
            "\n",
            "    accuracy                           0.95      4000\n",
            "   macro avg       0.95      0.95      0.95      4000\n",
            "weighted avg       0.95      0.95      0.95      4000\n",
            "\n",
            "\n",
            "Confusion Matrix:\n",
            " [[144   1   0   0   0   0   0   0   0   0   0   0   0   0   0   0   0   3\n",
            "    0   0   1   0   0   0   0   0]\n",
            " [  0 146   0   2   0   0   0   1   0   0   0   1   0   0   0   0   0   2\n",
            "    1   0   0   0   0   0   0   0]\n",
            " [  0   0 129   0   1   0   4   0   0   0   0   1   0   0   1   0   0   0\n",
            "    0   0   1   0   0   0   0   0]\n",
            " [  0   1   0 151   0   0   1   2   0   0   0   0   0   1   0   0   0   0\n",
            "    0   0   0   0   0   0   0   0]\n",
            " [  0   0   0   0 135   0   0   0   0   0   3   0   0   0   0   0   2   0\n",
            "    0   0   0   0   0   0   0   1]\n",
            " [  0   1   0   0   1 132   0   0   1   1   0   0   0   0   0   3   0   0\n",
            "    0   1   0   0   0   0   0   0]\n",
            " [  0   1   2   1   1   0 149   0   0   0   2   1   0   1   0   0   0   1\n",
            "    0   0   0   1   0   0   0   0]\n",
            " [  0   3   1   2   0   0   0 124   0   0   4   0   0   2   1   1   0   5\n",
            "    0   0   1   0   0   0   0   0]\n",
            " [  0   0   0   3   0   0   0   0 135   1   0   0   0   0   0   0   0   0\n",
            "    2   0   0   0   0   3   2   0]\n",
            " [  0   0   0   0   0   1   0   0   3 141   0   1   0   0   0   0   0   1\n",
            "    0   0   0   0   0   0   1   1]\n",
            " [  0   0   0   0   1   0   0   1   0   0 113   0   0   0   0   0   0  10\n",
            "    1   0   0   0   0   4   0   0]\n",
            " [  0   0   0   0   2   0   0   0   0   0   0 151   0   0   0   0   1   0\n",
            "    1   0   0   0   0   0   0   0]\n",
            " [  2   0   0   0   0   0   0   0   0   0   0   0 165   1   0   0   0   0\n",
            "    0   0   0   0   0   0   0   0]\n",
            " [  2   0   0   1   0   0   0   1   0   0   1   0   2 138   2   0   0   3\n",
            "    0   0   0   0   1   0   0   0]\n",
            " [  0   0   1   2   0   0   0   0   0   3   0   0   0   0 137   1   1   0\n",
            "    0   0   0   0   0   0   0   0]\n",
            " [  1   1   0   0   2   3   0   0   0   0   0   0   0   0   0 166   0   0\n",
            "    0   0   0   0   0   0   0   0]\n",
            " [  0   0   0   1   0   0   3   0   0   0   0   1   0   0   0   0 160   0\n",
            "    0   0   0   0   0   0   1   0]\n",
            " [  0   3   1   1   0   0   0   0   0   0   2   0   0   0   1   0   0 152\n",
            "    0   0   0   0   0   0   0   0]\n",
            " [  0   0   0   0   1   0   0   0   0   0   0   0   0   0   0   0   0   0\n",
            "  169   0   0   0   0   0   0   1]\n",
            " [  0   0   0   0   0   2   0   1   0   0   1   0   0   0   0   0   0   0\n",
            "    0 156   0   0   0   2   1   0]\n",
            " [  1   0   0   1   0   0   0   1   0   0   1   0   1   0   2   0   0   0\n",
            "    0   0 176   0   0   0   0   0]\n",
            " [  0   5   0   1   0   0   1   0   0   0   0   0   0   0   0   0   0   0\n",
            "    0   0   1 148   2   0   0   0]\n",
            " [  0   0   0   0   0   0   0   0   0   0   0   0   1   0   0   0   0   0\n",
            "    0   0   4   0 143   0   0   0]\n",
            " [  0   0   0   0   1   0   0   0   0   0   1   0   0   0   0   0   0   0\n",
            "    0   0   1   0   0 150   1   0]\n",
            " [  1   0   0   0   0   0   0   0   0   0   0   0   0   0   0   0   0   0\n",
            "    0   1   0   0   0   1 165   0]\n",
            " [  1   0   0   0   2   0   0   1   0   1   0   0   0   0   0   0   2   1\n",
            "    1   0   0   0   0   0   0 123]]\n"
          ]
        }
      ]
    }
  ]
}