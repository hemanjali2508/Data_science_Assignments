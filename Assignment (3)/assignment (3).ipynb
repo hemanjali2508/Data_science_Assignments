{
 "cells": [
  {
   "cell_type": "markdown",
   "id": "10399acb-7866-4134-b253-f3e42d7b46dc",
   "metadata": {},
   "source": [
    "# Exercise 1: Prime Numbers"
   ]
  },
  {
   "cell_type": "code",
   "execution_count": 22,
   "id": "2207fde1-b773-4391-bcb6-6989f219ec23",
   "metadata": {},
   "outputs": [
    {
     "name": "stdin",
     "output_type": "stream",
     "text": [
      "enter a number: 5\n"
     ]
    },
    {
     "name": "stdout",
     "output_type": "stream",
     "text": [
      "5 is a prime number\n"
     ]
    }
   ],
   "source": [
    "def is_prime(number):\n",
    "    if number <= 1:\n",
    "        return False\n",
    "    if number == 2:\n",
    "        return True\n",
    "    if number % 2 == 0:\n",
    "        return False\n",
    "\n",
    "    for i in range(3, int(number**0.5) + 1,2):\n",
    "        if number % i == 0 :\n",
    "           return False\n",
    "\n",
    "    return True\n",
    "\n",
    "num = int(input(\"enter a number:\"))\n",
    "if is_prime(num):\n",
    "    print(f\"{num} is a prime number\")\n",
    "else:\n",
    "    print(f\"{num} is not a prime number\")\n"
   ]
  },
  {
   "cell_type": "markdown",
   "id": "2d8f5d30-a035-4c13-8a18-08b3da0b75cb",
   "metadata": {},
   "source": [
    "# Exercise 2: Product of Random Numbers"
   ]
  },
  {
   "cell_type": "code",
   "execution_count": 23,
   "id": "90a618d6-fd71-47bf-8ec9-db6b1455eafb",
   "metadata": {},
   "outputs": [
    {
     "name": "stdin",
     "output_type": "stream",
     "text": [
      "what is  10 * 9 is  89\n"
     ]
    },
    {
     "name": "stdout",
     "output_type": "stream",
     "text": [
      "Incorrect.The correct answer is 90.\n"
     ]
    }
   ],
   "source": [
    "import random\n",
    "\n",
    "#Generating two random numbers between 1 to 10\n",
    "num1=random.randint(1,10)\n",
    "num2=random.randint(1,10)\n",
    "user_answer = int(input(f\"what is  {num1} * {num2} is \"))\n",
    "if user_answer == num1 * num2:\n",
    "    print(\"correct!well done!\")\n",
    "else:\n",
    "    print(f\"Incorrect.The correct answer is {num1 * num2}.\")"
   ]
  },
  {
   "cell_type": "markdown",
   "id": "09ff4dc5-01b2-4f12-8dfb-c1b9c0438b2b",
   "metadata": {},
   "source": [
    "# Exercise 3: Squares of Even/Odd Numbers"
   ]
  },
  {
   "cell_type": "markdown",
   "id": "22b61cc2-ca4c-4e44-8fc1-5c319beff1d7",
   "metadata": {},
   "source": [
    "# Squares of Even Numbers"
   ]
  },
  {
   "cell_type": "code",
   "execution_count": 14,
   "id": "076e13cf-56c7-46ba-a565-1d420732d261",
   "metadata": {},
   "outputs": [
    {
     "name": "stdout",
     "output_type": "stream",
     "text": [
      "the square of 100 is 10000\n",
      "the square of 102 is 10404\n",
      "the square of 104 is 10816\n",
      "the square of 106 is 11236\n",
      "the square of 108 is 11664\n",
      "the square of 110 is 12100\n",
      "the square of 112 is 12544\n",
      "the square of 114 is 12996\n",
      "the square of 116 is 13456\n",
      "the square of 118 is 13924\n",
      "the square of 120 is 14400\n",
      "the square of 122 is 14884\n",
      "the square of 124 is 15376\n",
      "the square of 126 is 15876\n",
      "the square of 128 is 16384\n",
      "the square of 130 is 16900\n",
      "the square of 132 is 17424\n",
      "the square of 134 is 17956\n",
      "the square of 136 is 18496\n",
      "the square of 138 is 19044\n",
      "the square of 140 is 19600\n",
      "the square of 142 is 20164\n",
      "the square of 144 is 20736\n",
      "the square of 146 is 21316\n",
      "the square of 148 is 21904\n",
      "the square of 150 is 22500\n",
      "the square of 152 is 23104\n",
      "the square of 154 is 23716\n",
      "the square of 156 is 24336\n",
      "the square of 158 is 24964\n",
      "the square of 160 is 25600\n",
      "the square of 162 is 26244\n",
      "the square of 164 is 26896\n",
      "the square of 166 is 27556\n",
      "the square of 168 is 28224\n",
      "the square of 170 is 28900\n",
      "the square of 172 is 29584\n",
      "the square of 174 is 30276\n",
      "the square of 176 is 30976\n",
      "the square of 178 is 31684\n",
      "the square of 180 is 32400\n",
      "the square of 182 is 33124\n",
      "the square of 184 is 33856\n",
      "the square of 186 is 34596\n",
      "the square of 188 is 35344\n",
      "the square of 190 is 36100\n",
      "the square of 192 is 36864\n",
      "the square of 194 is 37636\n",
      "the square of 196 is 38416\n",
      "the square of 198 is 39204\n",
      "the square of 200 is 40000\n"
     ]
    }
   ],
   "source": [
    "start = 100\n",
    "end = 200\n",
    "for num in range(start,end + 1):\n",
    "    if num % 2 == 0:\n",
    "        print(f\"the square of {num} is {num**2}\")"
   ]
  },
  {
   "cell_type": "markdown",
   "id": "69a56026-bac4-4613-94cb-fff0373229b9",
   "metadata": {},
   "source": [
    "# Squares of odd Numbers"
   ]
  },
  {
   "cell_type": "code",
   "execution_count": 15,
   "id": "ae5c6b59-0b21-4a53-a591-d78280c58c23",
   "metadata": {},
   "outputs": [
    {
     "name": "stdout",
     "output_type": "stream",
     "text": [
      "the square of 101 is 10201\n",
      "the square of 103 is 10609\n",
      "the square of 105 is 11025\n",
      "the square of 107 is 11449\n",
      "the square of 109 is 11881\n",
      "the square of 111 is 12321\n",
      "the square of 113 is 12769\n",
      "the square of 115 is 13225\n",
      "the square of 117 is 13689\n",
      "the square of 119 is 14161\n",
      "the square of 121 is 14641\n",
      "the square of 123 is 15129\n",
      "the square of 125 is 15625\n",
      "the square of 127 is 16129\n",
      "the square of 129 is 16641\n",
      "the square of 131 is 17161\n",
      "the square of 133 is 17689\n",
      "the square of 135 is 18225\n",
      "the square of 137 is 18769\n",
      "the square of 139 is 19321\n",
      "the square of 141 is 19881\n",
      "the square of 143 is 20449\n",
      "the square of 145 is 21025\n",
      "the square of 147 is 21609\n",
      "the square of 149 is 22201\n",
      "the square of 151 is 22801\n",
      "the square of 153 is 23409\n",
      "the square of 155 is 24025\n",
      "the square of 157 is 24649\n",
      "the square of 159 is 25281\n",
      "the square of 161 is 25921\n",
      "the square of 163 is 26569\n",
      "the square of 165 is 27225\n",
      "the square of 167 is 27889\n",
      "the square of 169 is 28561\n",
      "the square of 171 is 29241\n",
      "the square of 173 is 29929\n",
      "the square of 175 is 30625\n",
      "the square of 177 is 31329\n",
      "the square of 179 is 32041\n",
      "the square of 181 is 32761\n",
      "the square of 183 is 33489\n",
      "the square of 185 is 34225\n",
      "the square of 187 is 34969\n",
      "the square of 189 is 35721\n",
      "the square of 191 is 36481\n",
      "the square of 193 is 37249\n",
      "the square of 195 is 38025\n",
      "the square of 197 is 38809\n",
      "the square of 199 is 39601\n"
     ]
    }
   ],
   "source": [
    "start = 100\n",
    "end = 200\n",
    "for num in range(start,end + 1):\n",
    "    if num % 2 != 0:\n",
    "        print(f\"the square of {num} is {num**2}\")"
   ]
  },
  {
   "cell_type": "markdown",
   "id": "4449f560-9d29-4131-a255-c60881ef565f",
   "metadata": {},
   "source": [
    "# Exercise 4: Word counter"
   ]
  },
  {
   "cell_type": "code",
   "execution_count": 24,
   "id": "d5e9ad63-1309-471b-b639-29388d70a018",
   "metadata": {},
   "outputs": [
    {
     "name": "stdout",
     "output_type": "stream",
     "text": [
      "'Hemanjali': 1\n",
      "'enjoys': 1\n",
      "'dancing': 1\n",
      "'and': 2\n",
      "'exploring': 1\n",
      "'new': 1\n",
      "'places': 1\n",
      "'she': 1\n",
      "'is': 1\n",
      "'a': 1\n",
      "'good': 1\n",
      "'girl.': 1\n"
     ]
    }
   ],
   "source": [
    "from collections import Counter\n",
    "\n",
    "def word_count(input_text):\n",
    "    #spliting the text into words based on white space\n",
    "    words = input_text.split()\n",
    "    #counting the frequency of each word\n",
    "    word_counter = Counter(words)\n",
    "\n",
    "    for word, count in word_counter.items():\n",
    "        print(f\"'{word}': {count}\")\n",
    "\n",
    "input_text = \" Hemanjali enjoys dancing and exploring new places and she is a good girl. \"\n",
    "word_count(input_text)\n"
   ]
  },
  {
   "cell_type": "markdown",
   "id": "4b070feb-5ae4-47ec-a7c2-004d6d51be7e",
   "metadata": {},
   "source": [
    "# Exercise 5: Check for Palindrome"
   ]
  },
  {
   "cell_type": "code",
   "execution_count": 25,
   "id": "c173fe94-90ad-4d19-a3fa-5abb73e0908c",
   "metadata": {},
   "outputs": [
    {
     "name": "stdin",
     "output_type": "stream",
     "text": [
      "enter the string: madam\n"
     ]
    },
    {
     "name": "stdout",
     "output_type": "stream",
     "text": [
      "True,the string is a palindrome\n"
     ]
    }
   ],
   "source": [
    "def ispalindrome(s):\n",
    "    return s == s[::-1]\n",
    "\n",
    "s = input(\"enter the string:\")\n",
    "palin = ispalindrome(s)\n",
    "\n",
    "if palin:\n",
    "    print(\"True,the string is a palindrome\")\n",
    "else:\n",
    "    print(\"False,the string is not a palindrome\")"
   ]
  }
 ],
 "metadata": {
  "kernelspec": {
   "display_name": "Python 3 (ipykernel)",
   "language": "python",
   "name": "python3"
  },
  "language_info": {
   "codemirror_mode": {
    "name": "ipython",
    "version": 3
   },
   "file_extension": ".py",
   "mimetype": "text/x-python",
   "name": "python",
   "nbconvert_exporter": "python",
   "pygments_lexer": "ipython3",
   "version": "3.11.7"
  }
 },
 "nbformat": 4,
 "nbformat_minor": 5
}
