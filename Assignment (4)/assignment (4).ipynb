{
 "cells": [
  {
   "cell_type": "markdown",
   "id": "a635d59e-99b1-4b1d-a1f4-8db0a99cf794",
   "metadata": {},
   "source": [
    "# CHI-SQUARE TEST"
   ]
  },
  {
   "cell_type": "markdown",
   "id": "a2201418-b180-42dc-9132-69e4e1f0d3d1",
   "metadata": {},
   "source": [
    "Hypotheses Statement:\r",
    "Null Hypothesis (H0): There is no association between the type of smart home device purchased and customer satisfaction.\r",
    "Alternative Hypothesis (H1): There is an association between the type of smart home device purchased and customer satisfaction."
   ]
  },
  {
   "cell_type": "code",
   "execution_count": 1,
   "id": "7ed2d460-6843-446c-8b83-d224d55aae48",
   "metadata": {},
   "outputs": [],
   "source": [
    "import numpy as np\n",
    "import scipy.stats as stats"
   ]
  },
  {
   "cell_type": "markdown",
   "id": "463e6337-1476-469a-9cbf-a2a810dd843a",
   "metadata": {},
   "source": [
    "# Chi-Square Statistic"
   ]
  },
  {
   "cell_type": "code",
   "execution_count": 3,
   "id": "61a36070-8ab0-4633-8fff-ac39b4af5db7",
   "metadata": {},
   "outputs": [
    {
     "data": {
      "text/plain": [
       "5.638227513227513"
      ]
     },
     "execution_count": 3,
     "metadata": {},
     "output_type": "execute_result"
    }
   ],
   "source": [
    "# Observed frequency table\n",
    "observed = np.array([[50, 70],[80, 100],[60, 90],[30, 50],[20, 50]])\n",
    "\n",
    "# Compute row and column totals\n",
    "row_totals = observed.sum(axis=1).reshape(-1, 1)\n",
    "col_totals = observed.sum(axis=0)\n",
    "grand_total = observed.sum()\n",
    "\n",
    "# Expected frequencies\n",
    "expected = (row_totals @ col_totals.reshape(1, -1)) / grand_total\n",
    "\n",
    "# Compute Chi-Square statistic\n",
    "chi_square_statistic = ((observed - expected) ** 2 / expected).sum()\n",
    "chi_square_statistic"
   ]
  },
  {
   "cell_type": "markdown",
   "id": "3ad3a19d-d26f-49b4-96fa-81588f374a4d",
   "metadata": {},
   "source": [
    "# Critical value"
   ]
  },
  {
   "cell_type": "code",
   "execution_count": 6,
   "id": "70664564-0fea-46da-a0d0-36b195c0b8a8",
   "metadata": {},
   "outputs": [
    {
     "data": {
      "text/plain": [
       "9.487729036781154"
      ]
     },
     "execution_count": 6,
     "metadata": {},
     "output_type": "execute_result"
    }
   ],
   "source": [
    "#To determine the critical value\n",
    "alpha = 0.05\n",
    "degrees_of_freedom = (observed.shape[0] - 1) * (observed.shape[1] - 1)\n",
    "critical_value = stats.chi2.ppf(1 - alpha,degrees_of_freedom)\n",
    "critical_value"
   ]
  },
  {
   "cell_type": "markdown",
   "id": "3a81c546-1d9d-4496-b782-6bcf3e2fc95b",
   "metadata": {},
   "source": [
    "# Make a decision"
   ]
  },
  {
   "cell_type": "code",
   "execution_count": 7,
   "id": "d6ec3bb5-e4c8-4ef5-a370-0bd74eeea63d",
   "metadata": {},
   "outputs": [],
   "source": [
    "if chi_square_statistic > critical_value:\n",
    "    conclusion = \"Reject the null hypothesis. There is a significant association between device type and customer satisfaction.\"\n",
    "else:\n",
    "    conclusion = \"Fail to reject the null hypothesis. There is no significant association between device type and customer satisfaction.\""
   ]
  },
  {
   "cell_type": "code",
   "execution_count": 8,
   "id": "c75b5305-e079-47ce-bb74-ba8ffa84c033",
   "metadata": {},
   "outputs": [
    {
     "name": "stdout",
     "output_type": "stream",
     "text": [
      "Chi-Square Statistic: 5.6382\n",
      "Degrees of Freedom: 4\n",
      "Critical Value: 9.4877\n"
     ]
    }
   ],
   "source": [
    "#Output results\n",
    "print(f\"Chi-Square Statistic: {chi_square_statistic:.4f}\")\n",
    "print(f\"Degrees of Freedom: {degrees_of_freedom}\")\n",
    "print(f\"Critical Value: {critical_value:.4f}\")"
   ]
  },
  {
   "cell_type": "markdown",
   "id": "700e1c27-90f9-4e88-b67d-6c5f3f2f5d24",
   "metadata": {},
   "source": [
    "# Conclusion"
   ]
  },
  {
   "cell_type": "code",
   "execution_count": 10,
   "id": "2d7cb604-c838-4ba2-b553-d23572d06971",
   "metadata": {},
   "outputs": [
    {
     "name": "stdout",
     "output_type": "stream",
     "text": [
      "Fail to reject the null hypothesis. There is no significant association between device type and customer satisfaction.\n"
     ]
    }
   ],
   "source": [
    "print(conclusion)"
   ]
  },
  {
   "cell_type": "markdown",
   "id": "b02faefb-9c71-4f71-8bb8-82569f8e29d9",
   "metadata": {},
   "source": [
    "# HYPOTHESIS TESTING"
   ]
  },
  {
   "cell_type": "markdown",
   "id": "6d6905b0-10a0-49d4-9abf-c0bd8e9f61c6",
   "metadata": {},
   "source": [
    "Hypotheses Statement:\r",
    "Null Hypothesis (H₀): The weekly operating cost follows the model 𝜇=1000+5𝑋\r",
    "Alternative Hypothesis (H₁): The weekly operating cost is higher than the model μ>1000+5X.\r",
    "Test Statistic Calculation: Using the given data, we calculated the test statistic as: 𝑡=(𝑥ˉ−𝜇)(𝜎/𝑛) ,we can get t=-38.0\r",
    "Decision: Since the test statistic (-38.0) is much lower than the critical value (1.645), we do not reject the null hypothesis.\r",
    "Conclusion: There is insufficient evidence to support the restaurant owners' claim that the weekly operating costs are higher than the model suggests. The observed cost seems to be consistent with the theoretical model. ​"
   ]
  },
  {
   "cell_type": "code",
   "execution_count": 11,
   "id": "b3a3b5d8-7b07-4e6f-80d1-274d5bb9e739",
   "metadata": {},
   "outputs": [],
   "source": [
    "import math\n",
    "import scipy.stats as stats"
   ]
  },
  {
   "cell_type": "code",
   "execution_count": 12,
   "id": "f302c99f-51a8-4063-a619-dfc3b245b7f5",
   "metadata": {},
   "outputs": [],
   "source": [
    "#Given data \n",
    "sample_mean = 3050\n",
    "theoritical_mean = 1000 + 5 * 600 \n",
    "sigma = 5 * 25\n",
    "n = 25 "
   ]
  },
  {
   "cell_type": "code",
   "execution_count": 13,
   "id": "11dfbb9b-64d1-4f6c-be54-3f7f3c65bef6",
   "metadata": {},
   "outputs": [
    {
     "data": {
      "text/plain": [
       "-38.0"
      ]
     },
     "execution_count": 13,
     "metadata": {},
     "output_type": "execute_result"
    }
   ],
   "source": [
    "#calculate the test statistic\n",
    "standard_error = sigma / math.sqrt(n)\n",
    "z_value = (sample_mean - theoritical_mean) / standard_error\n",
    "z_value"
   ]
  },
  {
   "cell_type": "code",
   "execution_count": 14,
   "id": "4ba82f2e-8820-413a-a92f-45f0e2bb87d6",
   "metadata": {},
   "outputs": [
    {
     "data": {
      "text/plain": [
       "1.6448536269514722"
      ]
     },
     "execution_count": 14,
     "metadata": {},
     "output_type": "execute_result"
    }
   ],
   "source": [
    "#critical value for one-tailed test at alpha = 0.05\n",
    "alpha = 0.05\n",
    "z_critical = stats.norm.ppf(1 - alpha)\n",
    "z_critical"
   ]
  },
  {
   "cell_type": "code",
   "execution_count": 15,
   "id": "af328089-3f9a-409a-89bc-d4ed0a5ac131",
   "metadata": {},
   "outputs": [
    {
     "name": "stdout",
     "output_type": "stream",
     "text": [
      "sample_mean: 3050\n",
      "theoritical_mean: 4000\n",
      "standard_error: 25.0\n",
      "z_value: -38.0\n",
      "z_critical: 1.6448536269514722\n"
     ]
    }
   ],
   "source": [
    "#Output results\n",
    "print(f\"sample_mean: {sample_mean}\")\n",
    "print(f\"theoritical_mean: {theoritical_mean}\")\n",
    "print(f\"standard_error: {standard_error}\")\n",
    "print(f\"z_value: {z_value}\")\n",
    "print(f\"z_critical: {z_critical}\")"
   ]
  },
  {
   "cell_type": "markdown",
   "id": "d35bc6d7-593c-45aa-994f-a4a27c377bef",
   "metadata": {},
   "source": [
    "# Making Decision"
   ]
  },
  {
   "cell_type": "code",
   "execution_count": 16,
   "id": "3cb65550-a623-415e-8eef-d119e32aa446",
   "metadata": {},
   "outputs": [
    {
     "name": "stdout",
     "output_type": "stream",
     "text": [
      "reject the null hypothesis\n"
     ]
    }
   ],
   "source": [
    "if z_value < z_critical:\n",
    "    print(\"reject the null hypothesis\")\n",
    "else:\n",
    "    print(\"do not reject the null hypothesis\")"
   ]
  },
  {
   "cell_type": "markdown",
   "id": "f3282fd1-62fb-4158-a08b-44e6fb468fb7",
   "metadata": {},
   "source": [
    "# Conclusion"
   ]
  },
  {
   "cell_type": "code",
   "execution_count": 17,
   "id": "88fe9278-39ee-415e-8a98-9c6733681d02",
   "metadata": {},
   "outputs": [
    {
     "name": "stdout",
     "output_type": "stream",
     "text": [
      "Based on the decision, there is no strong evidence to support the claim that the weekly operating costs are higher than the model suggests.\n"
     ]
    }
   ],
   "source": [
    "print(\"Based on the decision, there is no strong evidence to support the claim that the weekly operating costs are higher than the model suggests.\")"
   ]
  }
 ],
 "metadata": {
  "kernelspec": {
   "display_name": "Python 3 (ipykernel)",
   "language": "python",
   "name": "python3"
  },
  "language_info": {
   "codemirror_mode": {
    "name": "ipython",
    "version": 3
   },
   "file_extension": ".py",
   "mimetype": "text/x-python",
   "name": "python",
   "nbconvert_exporter": "python",
   "pygments_lexer": "ipython3",
   "version": "3.11.7"
  }
 },
 "nbformat": 4,
 "nbformat_minor": 5
}
